{
  "nbformat": 4,
  "nbformat_minor": 0,
  "metadata": {
    "colab": {
      "name": "[Load Model]News Prediction with indoBert-base-p1.ipynb",
      "provenance": []
    },
    "kernelspec": {
      "name": "python3",
      "display_name": "Python 3"
    },
    "language_info": {
      "name": "python"
    }
  },
  "cells": [
    {
      "cell_type": "code",
      "execution_count": 10,
      "metadata": {
        "id": "8ct1a4tbcR0E"
      },
      "outputs": [],
      "source": [
        "import tensorflow as tf\n",
        "# for load your model\n",
        "from tensorflow import keras\n",
        "\n",
        "#for load tokenizer\n",
        "import pickle\n",
        "\n",
        "# For reading uploaded file\n",
        "from google.colab import files, drive\n",
        "import io\n",
        "\n",
        "# for convert news sample in numpy format\n",
        "import numpy as np"
      ]
    },
    {
      "cell_type": "code",
      "source": [
        "# This library is needed for load indo bert tokenizer\n",
        "!pip install transformers"
      ],
      "metadata": {
        "colab": {
          "base_uri": "https://localhost:8080/"
        },
        "id": "Z3I_BC91wW2O",
        "outputId": "9480cbf6-df61-4077-d8f8-4f68e396bd99"
      },
      "execution_count": 5,
      "outputs": [
        {
          "output_type": "stream",
          "name": "stdout",
          "text": [
            "Collecting transformers\n",
            "  Downloading transformers-4.19.2-py3-none-any.whl (4.2 MB)\n",
            "\u001b[K     |████████████████████████████████| 4.2 MB 25.9 MB/s \n",
            "\u001b[?25hRequirement already satisfied: packaging>=20.0 in /usr/local/lib/python3.7/dist-packages (from transformers) (21.3)\n",
            "Requirement already satisfied: regex!=2019.12.17 in /usr/local/lib/python3.7/dist-packages (from transformers) (2019.12.20)\n",
            "Collecting pyyaml>=5.1\n",
            "  Downloading PyYAML-6.0-cp37-cp37m-manylinux_2_5_x86_64.manylinux1_x86_64.manylinux_2_12_x86_64.manylinux2010_x86_64.whl (596 kB)\n",
            "\u001b[K     |████████████████████████████████| 596 kB 50.7 MB/s \n",
            "\u001b[?25hCollecting tokenizers!=0.11.3,<0.13,>=0.11.1\n",
            "  Downloading tokenizers-0.12.1-cp37-cp37m-manylinux_2_12_x86_64.manylinux2010_x86_64.whl (6.6 MB)\n",
            "\u001b[K     |████████████████████████████████| 6.6 MB 65.7 MB/s \n",
            "\u001b[?25hRequirement already satisfied: tqdm>=4.27 in /usr/local/lib/python3.7/dist-packages (from transformers) (4.64.0)\n",
            "Requirement already satisfied: numpy>=1.17 in /usr/local/lib/python3.7/dist-packages (from transformers) (1.21.6)\n",
            "Requirement already satisfied: filelock in /usr/local/lib/python3.7/dist-packages (from transformers) (3.7.0)\n",
            "Requirement already satisfied: importlib-metadata in /usr/local/lib/python3.7/dist-packages (from transformers) (4.11.3)\n",
            "Requirement already satisfied: requests in /usr/local/lib/python3.7/dist-packages (from transformers) (2.23.0)\n",
            "Collecting huggingface-hub<1.0,>=0.1.0\n",
            "  Downloading huggingface_hub-0.6.0-py3-none-any.whl (84 kB)\n",
            "\u001b[K     |████████████████████████████████| 84 kB 4.2 MB/s \n",
            "\u001b[?25hRequirement already satisfied: typing-extensions>=3.7.4.3 in /usr/local/lib/python3.7/dist-packages (from huggingface-hub<1.0,>=0.1.0->transformers) (4.2.0)\n",
            "Requirement already satisfied: pyparsing!=3.0.5,>=2.0.2 in /usr/local/lib/python3.7/dist-packages (from packaging>=20.0->transformers) (3.0.9)\n",
            "Requirement already satisfied: zipp>=0.5 in /usr/local/lib/python3.7/dist-packages (from importlib-metadata->transformers) (3.8.0)\n",
            "Requirement already satisfied: certifi>=2017.4.17 in /usr/local/lib/python3.7/dist-packages (from requests->transformers) (2021.10.8)\n",
            "Requirement already satisfied: idna<3,>=2.5 in /usr/local/lib/python3.7/dist-packages (from requests->transformers) (2.10)\n",
            "Requirement already satisfied: chardet<4,>=3.0.2 in /usr/local/lib/python3.7/dist-packages (from requests->transformers) (3.0.4)\n",
            "Requirement already satisfied: urllib3!=1.25.0,!=1.25.1,<1.26,>=1.21.1 in /usr/local/lib/python3.7/dist-packages (from requests->transformers) (1.24.3)\n",
            "Installing collected packages: pyyaml, tokenizers, huggingface-hub, transformers\n",
            "  Attempting uninstall: pyyaml\n",
            "    Found existing installation: PyYAML 3.13\n",
            "    Uninstalling PyYAML-3.13:\n",
            "      Successfully uninstalled PyYAML-3.13\n",
            "Successfully installed huggingface-hub-0.6.0 pyyaml-6.0 tokenizers-0.12.1 transformers-4.19.2\n"
          ]
        }
      ]
    },
    {
      "cell_type": "code",
      "source": [
        "# Access your model and tokenizer from drive\n",
        "drive.mount('/content/drive')"
      ],
      "metadata": {
        "colab": {
          "base_uri": "https://localhost:8080/"
        },
        "id": "6DI3SL3AvKov",
        "outputId": "7975bd0d-f2d5-4448-f162-dd75562d2be2"
      },
      "execution_count": 2,
      "outputs": [
        {
          "output_type": "stream",
          "name": "stdout",
          "text": [
            "Mounted at /content/drive\n"
          ]
        }
      ]
    },
    {
      "cell_type": "code",
      "source": [
        "loaded_model = tf.keras.models.load_model('/content/drive/MyDrive/true-sight/model/indobert-base-p1-87')"
      ],
      "metadata": {
        "id": "MY88qlbjcTbt"
      },
      "execution_count": 3,
      "outputs": []
    },
    {
      "cell_type": "code",
      "source": [
        "with open('/content/drive/MyDrive/true-sight/model/indobert-base-p1-tokenizer-87.pickle', 'rb') as handle:\n",
        "    loaded_tokenizer = pickle.load(handle)"
      ],
      "metadata": {
        "id": "IVCssxXUwCzH"
      },
      "execution_count": 6,
      "outputs": []
    },
    {
      "cell_type": "code",
      "source": [
        "# This is utility function to encode news sample for prediction\n",
        "def bert_encode(data, max_len) :\n",
        "    input_ids = [] \n",
        "    attention_masks = []\n",
        "    \n",
        "    for i in range(len(data)):\n",
        "        encoded = loaded_tokenizer.encode_plus(data[i],\n",
        "                                        add_special_tokens=True,\n",
        "                                        max_length=max_len,\n",
        "                                        pad_to_max_length=True,\n",
        "                                        return_attention_mask=True)\n",
        "        \n",
        "        input_ids.append(encoded['input_ids'])\n",
        "        attention_masks.append(encoded['attention_mask'])\n",
        "        \n",
        "    return np.array(input_ids),np.array(attention_masks)"
      ],
      "metadata": {
        "id": "FR0dsOIDwMeu"
      },
      "execution_count": 7,
      "outputs": []
    },
    {
      "cell_type": "code",
      "source": [
        "# Feel free to change this news sample\n",
        "news_sample = [\"Ikan lele merupakan salah satu makanan favorit di Indonesia. Selain harganya murah, rasanya juga sangat enak. Meski demikian, ada sebagian masyarakat yang takut menikmati masakan dari ikan air tawar tersebut. Mereka beranggapan jika ikan lele penyebab kanker dan penyakit lainnya.\",\n",
        "               \"Jakarta, Penyakit stroke saat ini bukanlah penyakit yang langka mengingat bagaimana gaya hidup masyarakat saat ini. Stres, jarang berolah raga, minum minuman beralkohol, makan tidak teratur, dan memilih makanan cepat saji sudah menjadi hal biasa. Dan ternyata hal-hal inilah yang memicu penyakit stroke. Anda pun wajib waspada terhadap gejalanya. Pingsan tiba-tiba atau mengalami kemiringan mulut merupakan salah satu tanda-tanda stroke. Orang-orang seperti ini harus cepat mendapatkan pertolongan pertama.\",\n",
        "               \"Pokemon aku yahudi adalah salah satu hal yang sering di share di grup sebutan favorit di indonesia\",\n",
        "               \"Pokemon aku yahudi: CNN Indonesia\",\n",
        "               \"Seorang wanita yang tengah hamil delapan bulan, Fitri (32), berhasil selamat dari peristiwa tanah longsor di Kampung Pasir Pogor, Desa Cipelang, Cijeruk, Kabupaten Bogor, Jawa Barat. Fitri sempat tertimbun longsor selama lima menit sebelum ditemukan warga.Ada lima menit saya sama anak-anak terjebak, sebelum ditolong warga. Pada ngeliat kepala anak-anak terus diangkat. Suami saya nggak tertolong, posisinya dekat pintu dapur, ungkap Fitri saat ditemui di tempatnya mengungsi tak jauh dari lokasi kejadian, Ahad.\",\n",
        "               \"Innalilahi wainnailaihi Rojiun … Tragis Lettu Marinir Muhammad Ikbal Gugur Ditembak KKB Saat Sujud Sholat Isya\",\n",
        "               \"Maudy Ayunda mengejutkan publik usai dikabarkan resmi menikah dengan kekasihnya pada Minggu (22/5). Hal itu muncul setelah dirinya selama ini jarang mengungkapkan hubungan asmara dengan seseorang.\",\n",
        "               \"Covid merupakan virus buatan ukraina: CNN Indonesia\",\n",
        "               \"Presiden Jokowi menghadang tank sendirian di ukraina\",\n",
        "               \"Subhanallah pakdhe menghadang tank sendirian di kerusuhan ukraina\"]"
      ],
      "metadata": {
        "id": "_M1zz9AtwwQW"
      },
      "execution_count": 8,
      "outputs": []
    },
    {
      "cell_type": "code",
      "source": [
        "test_input = bert_encode(news_sample, 60)\n",
        "preds = loaded_model.predict(test_input)\n",
        "preds"
      ],
      "metadata": {
        "colab": {
          "base_uri": "https://localhost:8080/"
        },
        "id": "v4LHzNnBw_ud",
        "outputId": "a936ea37-2ebd-4b49-884c-e2d8c79de2ca"
      },
      "execution_count": 12,
      "outputs": [
        {
          "output_type": "stream",
          "name": "stderr",
          "text": [
            "/usr/local/lib/python3.7/dist-packages/transformers/tokenization_utils_base.py:2291: FutureWarning: The `pad_to_max_length` argument is deprecated and will be removed in a future version, use `padding=True` or `padding='longest'` to pad to the longest sequence in the batch, or use `padding='max_length'` to pad to a max length. In this case, you can give a specific length with `max_length` (e.g. `max_length=45`) or leave max_length to None to pad to the maximal input size of the model (e.g. 512 for Bert).\n",
            "  FutureWarning,\n"
          ]
        },
        {
          "output_type": "execute_result",
          "data": {
            "text/plain": [
              "array([[4.7885832e-01],\n",
              "       [8.3993584e-02],\n",
              "       [9.6535122e-01],\n",
              "       [9.9995488e-01],\n",
              "       [1.1664033e-03],\n",
              "       [9.9996209e-01],\n",
              "       [2.8884411e-04],\n",
              "       [9.9937975e-01],\n",
              "       [9.9847442e-01],\n",
              "       [6.4038438e-01]], dtype=float32)"
            ]
          },
          "metadata": {},
          "execution_count": 12
        }
      ]
    },
    {
      "cell_type": "code",
      "source": [
        "THRESHOLD = 0.70 \n",
        "pred_df = pd.DataFrame(columns=['news', 'prediction'])\n",
        "pred_df['news'] = news_sample\n",
        "pred_df['prediction'] = preds\n",
        "\n",
        "# If the probability is more than treshold it will labeled as hoax else fact\n",
        "pred_df['prediction'] = pred_df['prediction'].apply(lambda x: 'Hoax' if x > THRESHOLD else 'Fakta')\n",
        "\n",
        "pred_df"
      ],
      "metadata": {
        "colab": {
          "base_uri": "https://localhost:8080/",
          "height": 363
        },
        "id": "gvfi0gGTxXmu",
        "outputId": "de635fb6-fc16-4050-90f9-076a61fc51a5"
      },
      "execution_count": 14,
      "outputs": [
        {
          "output_type": "execute_result",
          "data": {
            "text/plain": [
              "                                                news prediction\n",
              "0  Ikan lele merupakan salah satu makanan favorit...      Fakta\n",
              "1  Jakarta, Penyakit stroke saat ini bukanlah pen...      Fakta\n",
              "2  Pokemon aku yahudi adalah salah satu hal yang ...       Hoax\n",
              "3                  Pokemon aku yahudi: CNN Indonesia       Hoax\n",
              "4  Seorang wanita yang tengah hamil delapan bulan...      Fakta\n",
              "5  Innalilahi wainnailaihi Rojiun … Tragis Lettu ...       Hoax\n",
              "6  Maudy Ayunda mengejutkan publik usai dikabarka...      Fakta\n",
              "7  Covid merupakan virus buatan ukraina: CNN Indo...       Hoax\n",
              "8  Presiden Jokowi menghadang tank sendirian di u...       Hoax\n",
              "9  Subhanallah pakdhe menghadang tank sendirian d...      Fakta"
            ],
            "text/html": [
              "\n",
              "  <div id=\"df-7344bfd2-2111-4965-8123-154bd385fcb6\">\n",
              "    <div class=\"colab-df-container\">\n",
              "      <div>\n",
              "<style scoped>\n",
              "    .dataframe tbody tr th:only-of-type {\n",
              "        vertical-align: middle;\n",
              "    }\n",
              "\n",
              "    .dataframe tbody tr th {\n",
              "        vertical-align: top;\n",
              "    }\n",
              "\n",
              "    .dataframe thead th {\n",
              "        text-align: right;\n",
              "    }\n",
              "</style>\n",
              "<table border=\"1\" class=\"dataframe\">\n",
              "  <thead>\n",
              "    <tr style=\"text-align: right;\">\n",
              "      <th></th>\n",
              "      <th>news</th>\n",
              "      <th>prediction</th>\n",
              "    </tr>\n",
              "  </thead>\n",
              "  <tbody>\n",
              "    <tr>\n",
              "      <th>0</th>\n",
              "      <td>Ikan lele merupakan salah satu makanan favorit...</td>\n",
              "      <td>Fakta</td>\n",
              "    </tr>\n",
              "    <tr>\n",
              "      <th>1</th>\n",
              "      <td>Jakarta, Penyakit stroke saat ini bukanlah pen...</td>\n",
              "      <td>Fakta</td>\n",
              "    </tr>\n",
              "    <tr>\n",
              "      <th>2</th>\n",
              "      <td>Pokemon aku yahudi adalah salah satu hal yang ...</td>\n",
              "      <td>Hoax</td>\n",
              "    </tr>\n",
              "    <tr>\n",
              "      <th>3</th>\n",
              "      <td>Pokemon aku yahudi: CNN Indonesia</td>\n",
              "      <td>Hoax</td>\n",
              "    </tr>\n",
              "    <tr>\n",
              "      <th>4</th>\n",
              "      <td>Seorang wanita yang tengah hamil delapan bulan...</td>\n",
              "      <td>Fakta</td>\n",
              "    </tr>\n",
              "    <tr>\n",
              "      <th>5</th>\n",
              "      <td>Innalilahi wainnailaihi Rojiun … Tragis Lettu ...</td>\n",
              "      <td>Hoax</td>\n",
              "    </tr>\n",
              "    <tr>\n",
              "      <th>6</th>\n",
              "      <td>Maudy Ayunda mengejutkan publik usai dikabarka...</td>\n",
              "      <td>Fakta</td>\n",
              "    </tr>\n",
              "    <tr>\n",
              "      <th>7</th>\n",
              "      <td>Covid merupakan virus buatan ukraina: CNN Indo...</td>\n",
              "      <td>Hoax</td>\n",
              "    </tr>\n",
              "    <tr>\n",
              "      <th>8</th>\n",
              "      <td>Presiden Jokowi menghadang tank sendirian di u...</td>\n",
              "      <td>Hoax</td>\n",
              "    </tr>\n",
              "    <tr>\n",
              "      <th>9</th>\n",
              "      <td>Subhanallah pakdhe menghadang tank sendirian d...</td>\n",
              "      <td>Fakta</td>\n",
              "    </tr>\n",
              "  </tbody>\n",
              "</table>\n",
              "</div>\n",
              "      <button class=\"colab-df-convert\" onclick=\"convertToInteractive('df-7344bfd2-2111-4965-8123-154bd385fcb6')\"\n",
              "              title=\"Convert this dataframe to an interactive table.\"\n",
              "              style=\"display:none;\">\n",
              "        \n",
              "  <svg xmlns=\"http://www.w3.org/2000/svg\" height=\"24px\"viewBox=\"0 0 24 24\"\n",
              "       width=\"24px\">\n",
              "    <path d=\"M0 0h24v24H0V0z\" fill=\"none\"/>\n",
              "    <path d=\"M18.56 5.44l.94 2.06.94-2.06 2.06-.94-2.06-.94-.94-2.06-.94 2.06-2.06.94zm-11 1L8.5 8.5l.94-2.06 2.06-.94-2.06-.94L8.5 2.5l-.94 2.06-2.06.94zm10 10l.94 2.06.94-2.06 2.06-.94-2.06-.94-.94-2.06-.94 2.06-2.06.94z\"/><path d=\"M17.41 7.96l-1.37-1.37c-.4-.4-.92-.59-1.43-.59-.52 0-1.04.2-1.43.59L10.3 9.45l-7.72 7.72c-.78.78-.78 2.05 0 2.83L4 21.41c.39.39.9.59 1.41.59.51 0 1.02-.2 1.41-.59l7.78-7.78 2.81-2.81c.8-.78.8-2.07 0-2.86zM5.41 20L4 18.59l7.72-7.72 1.47 1.35L5.41 20z\"/>\n",
              "  </svg>\n",
              "      </button>\n",
              "      \n",
              "  <style>\n",
              "    .colab-df-container {\n",
              "      display:flex;\n",
              "      flex-wrap:wrap;\n",
              "      gap: 12px;\n",
              "    }\n",
              "\n",
              "    .colab-df-convert {\n",
              "      background-color: #E8F0FE;\n",
              "      border: none;\n",
              "      border-radius: 50%;\n",
              "      cursor: pointer;\n",
              "      display: none;\n",
              "      fill: #1967D2;\n",
              "      height: 32px;\n",
              "      padding: 0 0 0 0;\n",
              "      width: 32px;\n",
              "    }\n",
              "\n",
              "    .colab-df-convert:hover {\n",
              "      background-color: #E2EBFA;\n",
              "      box-shadow: 0px 1px 2px rgba(60, 64, 67, 0.3), 0px 1px 3px 1px rgba(60, 64, 67, 0.15);\n",
              "      fill: #174EA6;\n",
              "    }\n",
              "\n",
              "    [theme=dark] .colab-df-convert {\n",
              "      background-color: #3B4455;\n",
              "      fill: #D2E3FC;\n",
              "    }\n",
              "\n",
              "    [theme=dark] .colab-df-convert:hover {\n",
              "      background-color: #434B5C;\n",
              "      box-shadow: 0px 1px 3px 1px rgba(0, 0, 0, 0.15);\n",
              "      filter: drop-shadow(0px 1px 2px rgba(0, 0, 0, 0.3));\n",
              "      fill: #FFFFFF;\n",
              "    }\n",
              "  </style>\n",
              "\n",
              "      <script>\n",
              "        const buttonEl =\n",
              "          document.querySelector('#df-7344bfd2-2111-4965-8123-154bd385fcb6 button.colab-df-convert');\n",
              "        buttonEl.style.display =\n",
              "          google.colab.kernel.accessAllowed ? 'block' : 'none';\n",
              "\n",
              "        async function convertToInteractive(key) {\n",
              "          const element = document.querySelector('#df-7344bfd2-2111-4965-8123-154bd385fcb6');\n",
              "          const dataTable =\n",
              "            await google.colab.kernel.invokeFunction('convertToInteractive',\n",
              "                                                     [key], {});\n",
              "          if (!dataTable) return;\n",
              "\n",
              "          const docLinkHtml = 'Like what you see? Visit the ' +\n",
              "            '<a target=\"_blank\" href=https://colab.research.google.com/notebooks/data_table.ipynb>data table notebook</a>'\n",
              "            + ' to learn more about interactive tables.';\n",
              "          element.innerHTML = '';\n",
              "          dataTable['output_type'] = 'display_data';\n",
              "          await google.colab.output.renderOutput(dataTable, element);\n",
              "          const docLink = document.createElement('div');\n",
              "          docLink.innerHTML = docLinkHtml;\n",
              "          element.appendChild(docLink);\n",
              "        }\n",
              "      </script>\n",
              "    </div>\n",
              "  </div>\n",
              "  "
            ]
          },
          "metadata": {},
          "execution_count": 14
        }
      ]
    }
  ]
}